{
 "cells": [
  {
   "cell_type": "code",
   "execution_count": 10,
   "id": "81ad6859",
   "metadata": {},
   "outputs": [
    {
     "name": "stdout",
     "output_type": "stream",
     "text": [
      "The average number of cats is:\n",
      "11.5\n"
     ]
    }
   ],
   "source": [
    "data = {\n",
    "    \"Cats\": [12,10,6,18],\n",
    "    \"Dogs\": [35,97,102,7]\n",
    "}\n",
    "CatTotal= 12+10+6+18\n",
    "CatAvg= CatTotal/4\n",
    "\n",
    "print(\"The average weight of cats is:\")\n",
    "print(CatAvg)"
   ]
  },
  {
   "cell_type": "code",
   "execution_count": null,
   "id": "6fb7f111",
   "metadata": {},
   "outputs": [],
   "source": []
  }
 ],
 "metadata": {
  "kernelspec": {
   "display_name": "Python 3 (ipykernel)",
   "language": "python",
   "name": "python3"
  },
  "language_info": {
   "codemirror_mode": {
    "name": "ipython",
    "version": 3
   },
   "file_extension": ".py",
   "mimetype": "text/x-python",
   "name": "python",
   "nbconvert_exporter": "python",
   "pygments_lexer": "ipython3",
   "version": "3.9.13"
  }
 },
 "nbformat": 4,
 "nbformat_minor": 5
}
