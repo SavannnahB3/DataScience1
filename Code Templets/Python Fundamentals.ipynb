{
 "cells": [
  {
   "cell_type": "code",
   "execution_count": 1,
   "metadata": {
    "id": "bIBt_FTuvB7O"
   },
   "outputs": [],
   "source": [
    "pirates = {\n",
    "    \"Pirate\":[\"Blackbeard\", \"Anne Bonny\", \"Calico Jack\", \"Cheung Po Tsai\", \"Grace O'Malley\", \"Mary Read\", \"Sayyida al Hurra\", \"Ching Shih\", \"Sir Francis Drake\", \"Jean Lafittte\"],\n",
    "    \"Sex\":[\"M\", \"F\", \"M\", \"M\", \"F\", \"F\", \"F\", \"F\", \"M\", \"M\"],\n",
    "    \"Age at Death\":[40, 24, 37, 39, 73, 36, 75, 69, 56, 46],\n",
    "    \"Height\":[6.4, 5.6, 5.6, 5.3, 5.0, 5.1, 0.0, 5.3, 5.5, 6.2],\n",
    "    \"Skull and Crossbones\":[False, True, True, False, False, True, False, False, False, False]\n",
    "}"
   ]
  },
  {
   "cell_type": "code",
   "execution_count": 2,
   "metadata": {
    "scrolled": false
   },
   "outputs": [
    {
     "name": "stdout",
     "output_type": "stream",
     "text": [
      "Blackbeard\n",
      "M\n",
      "40\n",
      "6.4\n",
      "False\n"
     ]
    }
   ],
   "source": [
    "for taco in pirates:\n",
    "    print(pirates[taco][0])"
   ]
  },
  {
   "cell_type": "code",
   "execution_count": 3,
   "metadata": {},
   "outputs": [
    {
     "name": "stdout",
     "output_type": "stream",
     "text": [
      "[False, False, False, False, True, False, False, True, True, False]\n"
     ]
    }
   ],
   "source": [
    "print(pirates[\"Skull and Crossbones\"][::-1])"
   ]
  },
  {
   "cell_type": "code",
   "execution_count": 4,
   "metadata": {},
   "outputs": [
    {
     "name": "stdout",
     "output_type": "stream",
     "text": [
      "Blackbeard 40 False\n",
      "Anne Bonny 24 True\n",
      "Calico Jack 37 True\n",
      "Cheung Po Tsai 39 False\n",
      "Grace O'Malley 73 False\n",
      "Mary Read 36 True\n",
      "Sayyida al Hurra 75 False\n",
      "Ching Shih 69 False\n",
      "Sir Francis Drake 56 False\n",
      "Jean Lafittte 46 False\n"
     ]
    }
   ],
   "source": [
    "for i in range(0, 10):\n",
    "    print(pirates[\"Pirate\"][i], pirates[\"Age at Death\"][i], pirates[\"Skull and Crossbones\"][i])"
   ]
  },
  {
   "cell_type": "code",
   "execution_count": 5,
   "metadata": {},
   "outputs": [
    {
     "name": "stdout",
     "output_type": "stream",
     "text": [
      "3\n"
     ]
    }
   ],
   "source": [
    "#Try to use true to get number of flags\n",
    "count=0\n",
    "for i in range(0, 10):\n",
    "    flags = pirates[\"Skull and Crossbones\"][i]\n",
    "    if flags == True:\n",
    "        count = count + 1\n",
    "print(count)"
   ]
  },
  {
   "cell_type": "code",
   "execution_count": 6,
   "metadata": {},
   "outputs": [
    {
     "name": "stdout",
     "output_type": "stream",
     "text": [
      "Female pirates live longer 55.4\n"
     ]
    }
   ],
   "source": [
    "maleTotal = 0\n",
    "femaleTotal = 0\n",
    "maleCount = 0\n",
    "femaleCount = 0\n",
    "\n",
    "for i in range(0, len(pirates[\"Pirate\"])):\n",
    "    if pirates[\"Sex\"][i] == \"M\":\n",
    "        maleCount += 1\n",
    "        maleTotal += pirates[\"Age at Death\"][i]\n",
    "    else:\n",
    "        femaleCount += 1\n",
    "        femaleTotal += pirates[\"Age at Death\"][i]\n",
    "\n",
    "maleAvg = maleTotal/maleCount\n",
    "femaleAvg = femaleTotal/femaleCount\n",
    "\n",
    "if maleAvg > femaleAvg:\n",
    "    print(\"Male pirates live longer\", maleAvg)\n",
    "elif maleAvg < femaleAvg:\n",
    "    print(\"Female pirates live longer\", femaleAvg)"
   ]
  },
  {
   "cell_type": "code",
   "execution_count": 9,
   "metadata": {},
   "outputs": [
    {
     "name": "stdout",
     "output_type": "stream",
     "text": [
      "20.0\n"
     ]
    }
   ],
   "source": [
    "count = 0\n",
    "for i in range(0, 10):\n",
    "    if pirates[\"Height\"][i] >= 6.0:\n",
    "        count = count + 1\n",
    "\n",
    "percentage = (count/10) * 100\n",
    "print(percentage)"
   ]
  },
  {
   "cell_type": "code",
   "execution_count": null,
   "metadata": {},
   "outputs": [],
   "source": []
  }
 ],
 "metadata": {
  "colab": {
   "provenance": []
  },
  "kernelspec": {
   "display_name": "Python 3 (ipykernel)",
   "language": "python",
   "name": "python3"
  },
  "language_info": {
   "codemirror_mode": {
    "name": "ipython",
    "version": 3
   },
   "file_extension": ".py",
   "mimetype": "text/x-python",
   "name": "python",
   "nbconvert_exporter": "python",
   "pygments_lexer": "ipython3",
   "version": "3.9.13"
  }
 },
 "nbformat": 4,
 "nbformat_minor": 1
}
