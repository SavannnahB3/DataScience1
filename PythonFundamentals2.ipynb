{
 "cells": [
  {
   "cell_type": "code",
   "execution_count": 1,
   "id": "e349be6e",
   "metadata": {},
   "outputs": [],
   "source": [
    "data1 = {\n",
    "    \"Name\":[\"Edward Teach\",\"Anne Bonny\",\"John Rackham\",\"Cheung Po Tsai\",\"Grace O'Malley\",\"Mary Reed\",\"Sayyida al Hurra\",\"Zheng Yi Sao\",\"Francis Drake\",\"Jean Lafitte\"],\n",
    "    \"Years Active\":[\"1716-1718\",\"1718-1720\",\"1718-1720\",\"1798-1810\",\"1564-1595\",\"1708-1721\",\"1515-1545\",\"1801-1810\",\"1563-1596\",\"1810-1823\"],\n",
    "    \"Sailed\":[\"Carribbean\",\"Carribbean\",\"Carribbean\",\"South China Sea\",\"British Isles\",\"Carribbean\",\"Mediterranean\",\"South China Sea\",\"Caribbean\",\"Gulf of Mexico\"],\n",
    "    \"Alias\":[\"Blackbeard\",\"None\",\"Calico Jack\",\"The Kid\",\"Queen of Ireland\",\"Mark\",\"Hakimat Tiwan\",\"Ching Shih\",\"Sir Francis Drake\",\"Terror of the Gulf\"]\n",
    "}"
   ]
  },
  {
   "cell_type": "code",
   "execution_count": 2,
   "id": "baf45192",
   "metadata": {},
   "outputs": [],
   "source": [
    "data2 = {\n",
    "    \"Edward Teach\":[\"1716-1718\",\"Carribbean\",\"Blackbeard\"],\n",
    "    \"Anne Bonny\":[\"1718-1720\",\"Carribbean\",\"None\"],\n",
    "    \"John Rackham\":[\"1718-1720\",\"Carribbean\",\"Calico Jack\"],\n",
    "    \"Cheung Po Tsai\":[\"1798-1810\",\"South China Sea\",\"The Kid\"],\n",
    "    \"Grace O'Malley\":[\"1564-1595\",\"British Isles\",\"Queen of Ireland\"],\n",
    "    \"Mary Reed\":[\"1708-1721\",\"Carribbean\",\"Mark\"],\n",
    "    \"Sayyida al Hurra\":[\"1515-1545\",\"Mediterranean\",\"Hakimat Tiwan\"],\n",
    "    \"Zheng Yi Sao\":[\"1801-1810\",\"South China Sea\",\"Ching Shih\"],\n",
    "    \"Francis Drake\":[\"1563-1596\",\"Caribbean\",\"Sir Francis Drake\"],\n",
    "    \"Jean Lafitte\":[\"1810-1823\",\"Gulf of Mexico\",\"Terror of the Gulf\"]\n",
    "}"
   ]
  },
  {
   "cell_type": "code",
   "execution_count": 12,
   "id": "a67af72e",
   "metadata": {},
   "outputs": [
    {
     "name": "stdout",
     "output_type": "stream",
     "text": [
      "4\n"
     ]
    }
   ],
   "source": [
    "#Challenge 2 - Part 1\n",
    "count = 0\n",
    "for i in range(0, 10):\n",
    "    ship = data1[\"Sailed\"][i]\n",
    "    if ship == \"Carribbean\":\n",
    "        count = count + 1\n",
    "\n",
    "print(count)"
   ]
  },
  {
   "cell_type": "code",
   "execution_count": 17,
   "id": "817c3b5c",
   "metadata": {},
   "outputs": [
    {
     "data": {
      "text/plain": [
       "'Francis Drake'"
      ]
     },
     "execution_count": 17,
     "metadata": {},
     "output_type": "execute_result"
    }
   ],
   "source": [
    "#Challenge 2 - Part 2\n",
    "Careers = []\n",
    "for i in data1[\"Years Active\"]:\n",
    "    rangeYears = i.split(\"-\")\n",
    "    for j in range(2):\n",
    "        rangeYears[j] = int(rangeYears[j])\n",
    "    difference = rangeYears[1] - rangeYears[0]\n",
    "    Careers.append(difference)\n",
    "\n",
    "idx = Careers.index(max(Careers))\n",
    "data1[\"Name\"][idx]"
   ]
  },
  {
   "cell_type": "code",
   "execution_count": 18,
   "id": "619efda3",
   "metadata": {},
   "outputs": [
    {
     "data": {
      "text/plain": [
       "14.7"
      ]
     },
     "execution_count": 18,
     "metadata": {},
     "output_type": "execute_result"
    }
   ],
   "source": [
    "#Challenge 2 - Part 3\n",
    "avg = sum(Careers)/len(Careers)\n",
    "avg"
   ]
  },
  {
   "cell_type": "code",
   "execution_count": null,
   "id": "19688ad6",
   "metadata": {},
   "outputs": [],
   "source": [
    "Challenge 3\n",
    "data3 = {\n",
    "    \"Name\":[\"Edward Teach\",\"Anne Bonny\",\"John Rackham\",\"Cheung Po Tsai\",\"Grace O'Malley\",\"Mary Reed\",\"Sayyida al Hurra\",\"Zheng Yi Sao\",\"Francis Drake\",\"Jean Lafitte\"],\n",
    "    \"Years Active\":[\"1716-1718\",\"1718-1720\",\"1718-1720\",\"1798-1810\",\"1564-1595\",\"1708-1721\",\"1515-1545\",\"1801-1810\",\"1563-1596\",\"1810-1823\"],\n",
    "    \"Sailed\":[\"Carribbean\",\"Carribbean\",\"Carribbean\",\"South China Sea\",\"British Isles\",\"Carribbean\",\"Mediterranean\",\"South China Sea\",\"Caribbean\",\"Gulf of Mexico\"],\n",
    "    \"Alias\":[\"Blackbeard\",\"None\",\"Calico Jack\",\"The Kid\",\"Queen of Ireland\",\"Mark\",\"Hakimat Tiwan\",\"Ching Shih\",\"Sir Francis Drake\",\"Terror of the Gulf\"],\n",
    "    \"Sex\":[\"M\", \"F\", \"M\", \"M\", \"F\", \"F\", \"F\", \"F\", \"M\", \"M\"],\n",
    "    \"Age at Death\":[40, 24, 37, 39, 73, 36, 75, 69, 56, 46],\n",
    "    \"Height\":[6.4, 5.6, 5.6, 5.3, 5.0, 5.1, 0.0, 5.3, 5.5, 6.2],\n",
    "    \"Skull and Crossbones\":[False, True, True, False, False, True, False, False, False, False]\n",
    "}"
   ]
  }
 ],
 "metadata": {
  "kernelspec": {
   "display_name": "Python 3 (ipykernel)",
   "language": "python",
   "name": "python3"
  },
  "language_info": {
   "codemirror_mode": {
    "name": "ipython",
    "version": 3
   },
   "file_extension": ".py",
   "mimetype": "text/x-python",
   "name": "python",
   "nbconvert_exporter": "python",
   "pygments_lexer": "ipython3",
   "version": "3.9.13"
  }
 },
 "nbformat": 4,
 "nbformat_minor": 5
}
